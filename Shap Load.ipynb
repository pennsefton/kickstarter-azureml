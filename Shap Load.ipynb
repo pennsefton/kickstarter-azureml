{
 "cells": [
  {
   "cell_type": "code",
   "execution_count": 2,
   "metadata": {},
   "outputs": [],
   "source": [
    "import pandas as pd\n",
    "import numpy as np\n",
    "import shap\n",
    "import pickle"
   ]
  },
  {
   "cell_type": "code",
   "execution_count": 3,
   "metadata": {},
   "outputs": [],
   "source": [
    "x = pd.read_pickle('Tables/feature_df.pkl')\n",
    "y = pd.read_csv('Tables/target_df.csv').drop(columns=['Unnamed: 0'])"
   ]
  },
  {
   "cell_type": "code",
   "execution_count": 4,
   "metadata": {},
   "outputs": [],
   "source": [
    "y['state'] = y['state'].replace({'successful': 1, 'failed': 0})"
   ]
  },
  {
   "cell_type": "code",
   "execution_count": 5,
   "metadata": {},
   "outputs": [
    {
     "name": "stderr",
     "output_type": "stream",
     "text": [
      "pandas.Int64Index is deprecated and will be removed from pandas in a future version. Use pandas.Index with the appropriate dtype instead.\n"
     ]
    }
   ],
   "source": [
    "x_train = pd.read_pickle('Tables/x_train.pkl')\n",
    "x_test = pd.read_pickle('Tables/x_test.pkl')\n",
    "y_train = pd.read_pickle('Tables/y_train.pkl')\n",
    "y_test = pd.read_pickle('Tables/y_test.pkl')\n",
    "model = pickle.load(open('Tables/finalized_model.pkl', 'rb'))"
   ]
  },
  {
   "cell_type": "code",
   "execution_count": 7,
   "metadata": {},
   "outputs": [
    {
     "name": "stderr",
     "output_type": "stream",
     "text": [
      "ntree_limit is deprecated, use `iteration_range` or model slicing instead.\n"
     ]
    }
   ],
   "source": [
    "# Explain the entire dataset and dump shap values into a pickle file\n",
    "explainer = shap.TreeExplainer(model)\n",
    "shap_values = explainer(x_test)\n",
    "filename = 'Tables/shap_values.pkl'\n",
    "pickle.dump(shap_values, open(filename, 'wb'))"
   ]
  }
 ],
 "metadata": {
  "kernelspec": {
   "display_name": "Python 3.9.6 64-bit",
   "language": "python",
   "name": "python3"
  },
  "language_info": {
   "codemirror_mode": {
    "name": "ipython",
    "version": 3
   },
   "file_extension": ".py",
   "mimetype": "text/x-python",
   "name": "python",
   "nbconvert_exporter": "python",
   "pygments_lexer": "ipython3",
   "version": "3.9.6"
  },
  "orig_nbformat": 4,
  "vscode": {
   "interpreter": {
    "hash": "de5dd2d45b7d6cd6e0d82880e218861db0d6a2cb79a28f32b53d036ad47b45f4"
   }
  }
 },
 "nbformat": 4,
 "nbformat_minor": 2
}
