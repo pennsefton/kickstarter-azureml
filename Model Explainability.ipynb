{
 "cells": [
  {
   "cell_type": "code",
   "execution_count": null,
   "metadata": {},
   "outputs": [],
   "source": [
    "import pandas as pd\n",
    "import numpy as np\n",
    "import shap\n",
    "import pickle"
   ]
  },
  {
   "cell_type": "code",
   "execution_count": null,
   "metadata": {},
   "outputs": [],
   "source": [
    "x = pd.read_pickle('Tables/feature_df.pkl')\n",
    "y = pd.read_csv('Tables/target_df.csv').drop(columns=['Unnamed: 0'])"
   ]
  },
  {
   "cell_type": "code",
   "execution_count": null,
   "metadata": {},
   "outputs": [],
   "source": [
    "y['state'] = y['state'].replace({'successful': 1, 'failed': 0})"
   ]
  },
  {
   "cell_type": "code",
   "execution_count": null,
   "metadata": {},
   "outputs": [],
   "source": [
    "x_train = pd.read_pickle('Tables/x_train.pkl')\n",
    "x_test = pd.read_pickle('Tables/x_test.pkl')\n",
    "y_train = pd.read_pickle('Tables/y_train.pkl')\n",
    "y_test = pd.read_pickle('Tables/y_test.pkl')\n",
    "model = pickle.load(open('Tables/finalized_model.pkl', 'rb'))"
   ]
  },
  {
   "cell_type": "code",
   "execution_count": null,
   "metadata": {},
   "outputs": [],
   "source": [
    "# Explain the entire dataset\n",
    "explainer = shap.TreeExplainer(model)\n",
    "shap_values = explainer(x_test)\n",
    "shap.summary_plot(shap_values, x_test)"
   ]
  },
  {
   "cell_type": "code",
   "execution_count": null,
   "metadata": {},
   "outputs": [],
   "source": [
    "# Top 20 most influential features for affecting model output\n",
    "shap.summary_plot(shap_values, x_test, plot_type='bar')"
   ]
  },
  {
   "cell_type": "code",
   "execution_count": null,
   "metadata": {},
   "outputs": [],
   "source": [
    "# Explain an Individual Row\n",
    "# Enter an column used to identify and the value of the row you are looking for\n",
    "row_id_value = None\n",
    "id_column_name = 'id'"
   ]
  },
  {
   "cell_type": "code",
   "execution_count": null,
   "metadata": {},
   "outputs": [],
   "source": [
    "# requires x_test set for predications and shap values\n",
    "shap_test = x_test.copy()\n",
    "x_id = x.copy()\n",
    "x_id = x_id[[id_column_name]]\n",
    "shap_test['order'] = np.arange(len(shap_test))\n",
    "shap_test_id = shap_test.merge(x_id, left_index=True, right_index=True)\n",
    "shap_reference = shap_test_id[shap_test_id[id_column_name]==row_id_value]['order'].values[0]\n",
    "shap.plots.waterfall(shap_values[:,:][shap_reference])"
   ]
  },
  {
   "cell_type": "code",
   "execution_count": null,
   "metadata": {},
   "outputs": [],
   "source": [
    "# Create a full df with shap values at each row\n",
    "def concat_shap(feature):\n",
    "    return(feature+'_shap')\n",
    "\n",
    "full_df = pd.concat([x_test, y_test], axis=1)\n",
    "full_df['order'] = np.arange(len(full_df))\n",
    "features = x_test.columns.values\n",
    "shap_feature_names = np.apply_along_axis(concat_shap,0,features)\n",
    "sorted_shap_feature_names = np.sort(shap_feature_names)\n",
    "\n",
    "shap_df = pd.DataFrame(columns=sorted_shap_feature_names)\n",
    "\n",
    "for o in full_df['order']:\n",
    "    index = float(full_df[full_df['order']==o].index[0])\n",
    "    vals = shap_values[:,:][o].values\n",
    "    features = x_test.columns.values\n",
    "    features_shap = np.apply_along_axis(concat_shap, 0, features)\n",
    "    shap_row = pd.DataFrame(list(zip(features_shap, vals)), columns=['col_name','shap_value'])\n",
    "    shap_row_sorted = shap_row.sort_values(by=['col_name'])\n",
    "    shap_row_transposed = shap_row_sorted.set_index('col_name').T\n",
    "    shap_df = pd.concat([shap_df, shap_row_transposed], ignore_index= True)\n",
    "\n",
    "full_shap_df = shap_df.merge(full_df, left_index=True, right_on=['order'])"
   ]
  }
 ],
 "metadata": {
  "language_info": {
   "name": "python"
  },
  "orig_nbformat": 4
 },
 "nbformat": 4,
 "nbformat_minor": 2
}
