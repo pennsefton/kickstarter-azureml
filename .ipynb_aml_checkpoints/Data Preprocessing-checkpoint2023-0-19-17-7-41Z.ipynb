{
  "cells": [
    {
      "cell_type": "code",
      "source": [
        "#check 2\n",
        "import pandas as pd"
      ],
      "outputs": [],
      "execution_count": 2,
      "metadata": {
        "gather": {
          "logged": 1673988888898
        }
      },
      "id": "a77f5b07"
    },
    {
      "cell_type": "code",
      "source": [
        "df = pd.read_pickle('Tables/loaded_data.pkl')"
      ],
      "outputs": [],
      "execution_count": 3,
      "metadata": {
        "gather": {
          "logged": 1673988889063
        }
      },
      "id": "fb5313ea"
    },
    {
      "cell_type": "code",
      "source": [
        "# Filter to projects only with successful or failed state for training purposes\n",
        "df = df[((df.state == 'successful') | (df.state == 'failed'))]"
      ],
      "outputs": [],
      "execution_count": 4,
      "metadata": {
        "gather": {
          "logged": 1673988889195
        }
      },
      "id": "5c8a6f7f"
    },
    {
      "cell_type": "code",
      "source": [
        "# Drop columns without distinct values (found from profiling report)\n",
        "df = df.drop(columns=['disable_communication','friends','is_backing','is_starred','permissions'])"
      ],
      "outputs": [],
      "execution_count": 5,
      "metadata": {
        "gather": {
          "logged": 1673988889333
        }
      },
      "id": "0cd7b952"
    },
    {
      "cell_type": "code",
      "source": [
        "# Drop highly correlated columns (ex. currency and currency symbol)\n",
        "df = df.drop(columns=['country_displayable_name','currency_symbol','currency_trailing_code','static_usd_rate','usd_exchange_rate','usd_type'])"
      ],
      "outputs": [],
      "execution_count": 6,
      "metadata": {
        "gather": {
          "logged": 1673988889471
        }
      },
      "id": "b216540f"
    },
    {
      "cell_type": "code",
      "source": [
        "# Drop columns that are not known at the beginning of a project\n",
        "df = df.drop(columns=['backers_count','converted_pledged_amount','pledged','spotlight','state_changed_at','usd_pledged'])"
      ],
      "outputs": [],
      "execution_count": 7,
      "metadata": {
        "gather": {
          "logged": 1673988889607
        }
      },
      "id": "0ead2571"
    },
    {
      "cell_type": "code",
      "source": [
        "# Drop columns irrelevant due to business knowledge\n",
        "df = df.drop(columns=['currency','current_currency','fx_rate','slug','source_url','location_city'])"
      ],
      "outputs": [],
      "execution_count": 8,
      "metadata": {
        "gather": {
          "logged": 1673988889741
        }
      },
      "id": "2d9ba4a8"
    },
    {
      "cell_type": "code",
      "source": [
        "# Drop columns due to difficulty to model (potentially NLP future additions)\n",
        "df = df.drop(columns=['blurb','creator','name'])"
      ],
      "outputs": [],
      "execution_count": 9,
      "metadata": {
        "gather": {
          "logged": 1673988889880
        }
      },
      "id": "daa20a9d"
    },
    {
      "cell_type": "markdown",
      "source": [
        "### Feature Engineering\n",
        "\n",
        "Synthetic Features to create\n",
        "- Campaign Length (start to campaign)\n",
        "- Creation to Start\n",
        "- Month of Launch\n",
        "- Hour of Launch\n"
      ],
      "metadata": {},
      "id": "1987ed6b"
    },
    {
      "cell_type": "code",
      "source": [
        "df['campaign_length'] = (df['deadline'] - df['launched_at']).dt.days\n",
        "df['prep_time'] = (df['launched_at'] - df['created_at']).dt.days\n",
        "df['month_of_launch'] = df['launched_at'].dt.month\n",
        "df['weekday_of_launch'] = df['launched_at'].dt.dayofweek\n",
        "df['hour_of_launch'] = df['launched_at'].dt.hour"
      ],
      "outputs": [],
      "execution_count": 10,
      "metadata": {
        "gather": {
          "logged": 1673988890019
        }
      },
      "id": "0f62985e"
    },
    {
      "cell_type": "code",
      "source": [
        "# Drop date columns due to difficulty for interpretation for ML\n",
        "df = df.drop(columns=['deadline','created_at','launched_at'])"
      ],
      "outputs": [],
      "execution_count": 11,
      "metadata": {
        "gather": {
          "logged": 1673988890157
        }
      },
      "id": "a94ff21c"
    },
    {
      "cell_type": "markdown",
      "source": [
        "### Encoding"
      ],
      "metadata": {},
      "id": "2cf9ca4e"
    },
    {
      "cell_type": "code",
      "source": [
        "# Encode Data\n",
        "from evalml.pipelines.components.transformers import OneHotEncoder\n",
        "\n",
        "number_of_categories = 10\n",
        "ohe = OneHotEncoder(top_n=number_of_categories)"
      ],
      "outputs": [
        {
          "output_type": "error",
          "ename": "ImportError",
          "evalue": "cannot import name 'DiversityScore' from 'featuretools.primitives' (/anaconda/envs/azureml_py310_sdkv2/lib/python3.10/site-packages/featuretools/primitives/__init__.py)",
          "traceback": [
            "\u001b[0;31m---------------------------------------------------------------------------\u001b[0m",
            "\u001b[0;31mImportError\u001b[0m                               Traceback (most recent call last)",
            "Input \u001b[0;32mIn [16]\u001b[0m, in \u001b[0;36m<cell line: 2>\u001b[0;34m()\u001b[0m\n\u001b[1;32m      1\u001b[0m \u001b[38;5;66;03m# Encode Data\u001b[39;00m\n\u001b[0;32m----> 2\u001b[0m \u001b[38;5;28;01mfrom\u001b[39;00m \u001b[38;5;21;01mevalml\u001b[39;00m\u001b[38;5;21;01m.\u001b[39;00m\u001b[38;5;21;01mpipelines\u001b[39;00m\u001b[38;5;21;01m.\u001b[39;00m\u001b[38;5;21;01mcomponents\u001b[39;00m\u001b[38;5;21;01m.\u001b[39;00m\u001b[38;5;21;01mtransformers\u001b[39;00m \u001b[38;5;28;01mimport\u001b[39;00m OneHotEncoder\n\u001b[1;32m      4\u001b[0m number_of_categories \u001b[38;5;241m=\u001b[39m \u001b[38;5;241m10\u001b[39m\n\u001b[1;32m      5\u001b[0m ohe \u001b[38;5;241m=\u001b[39m OneHotEncoder(top_n\u001b[38;5;241m=\u001b[39mnumber_of_categories)\n",
            "File \u001b[0;32m/anaconda/envs/azureml_py310_sdkv2/lib/python3.10/site-packages/evalml/__init__.py:9\u001b[0m, in \u001b[0;36m<module>\u001b[0;34m\u001b[0m\n\u001b[1;32m      7\u001b[0m \u001b[38;5;28;01mimport\u001b[39;00m \u001b[38;5;21;01mevalml\u001b[39;00m\u001b[38;5;21;01m.\u001b[39;00m\u001b[38;5;21;01mdemos\u001b[39;00m\n\u001b[1;32m      8\u001b[0m \u001b[38;5;28;01mimport\u001b[39;00m \u001b[38;5;21;01mevalml\u001b[39;00m\u001b[38;5;21;01m.\u001b[39;00m\u001b[38;5;21;01mmodel_family\u001b[39;00m\n\u001b[0;32m----> 9\u001b[0m \u001b[38;5;28;01mimport\u001b[39;00m \u001b[38;5;21;01mevalml\u001b[39;00m\u001b[38;5;21;01m.\u001b[39;00m\u001b[38;5;21;01mmodel_understanding\u001b[39;00m\n\u001b[1;32m     10\u001b[0m \u001b[38;5;28;01mimport\u001b[39;00m \u001b[38;5;21;01mevalml\u001b[39;00m\u001b[38;5;21;01m.\u001b[39;00m\u001b[38;5;21;01mobjectives\u001b[39;00m\n\u001b[1;32m     11\u001b[0m \u001b[38;5;28;01mimport\u001b[39;00m \u001b[38;5;21;01mevalml\u001b[39;00m\u001b[38;5;21;01m.\u001b[39;00m\u001b[38;5;21;01mpipelines\u001b[39;00m\n",
            "File \u001b[0;32m/anaconda/envs/azureml_py310_sdkv2/lib/python3.10/site-packages/evalml/model_understanding/__init__.py:39\u001b[0m, in \u001b[0;36m<module>\u001b[0;34m\u001b[0m\n\u001b[1;32m     30\u001b[0m \u001b[38;5;28;01mfrom\u001b[39;00m \u001b[38;5;21;01mevalml\u001b[39;00m\u001b[38;5;21;01m.\u001b[39;00m\u001b[38;5;21;01mmodel_understanding\u001b[39;00m\u001b[38;5;21;01m.\u001b[39;00m\u001b[38;5;21;01mpermutation_importance\u001b[39;00m \u001b[38;5;28;01mimport\u001b[39;00m (\n\u001b[1;32m     31\u001b[0m     calculate_permutation_importance,\n\u001b[1;32m     32\u001b[0m     calculate_permutation_importance_one_column,\n\u001b[1;32m     33\u001b[0m     graph_permutation_importance,\n\u001b[1;32m     34\u001b[0m )\n\u001b[1;32m     35\u001b[0m \u001b[38;5;28;01mfrom\u001b[39;00m \u001b[38;5;21;01mevalml\u001b[39;00m\u001b[38;5;21;01m.\u001b[39;00m\u001b[38;5;21;01mmodel_understanding\u001b[39;00m\u001b[38;5;21;01m.\u001b[39;00m\u001b[38;5;21;01mfeature_explanations\u001b[39;00m \u001b[38;5;28;01mimport\u001b[39;00m (\n\u001b[1;32m     36\u001b[0m     readable_explanation,\n\u001b[1;32m     37\u001b[0m     get_influential_features,\n\u001b[1;32m     38\u001b[0m )\n\u001b[0;32m---> 39\u001b[0m \u001b[38;5;28;01mfrom\u001b[39;00m \u001b[38;5;21;01mevalml\u001b[39;00m\u001b[38;5;21;01m.\u001b[39;00m\u001b[38;5;21;01mmodel_understanding\u001b[39;00m\u001b[38;5;21;01m.\u001b[39;00m\u001b[38;5;21;01mdecision_boundary\u001b[39;00m \u001b[38;5;28;01mimport\u001b[39;00m (\n\u001b[1;32m     40\u001b[0m     find_confusion_matrix_per_thresholds,\n\u001b[1;32m     41\u001b[0m )\n",
            "File \u001b[0;32m/anaconda/envs/azureml_py310_sdkv2/lib/python3.10/site-packages/evalml/model_understanding/decision_boundary.py:7\u001b[0m, in \u001b[0;36m<module>\u001b[0;34m\u001b[0m\n\u001b[1;32m      4\u001b[0m \u001b[38;5;28;01mimport\u001b[39;00m \u001b[38;5;21;01mnumpy\u001b[39;00m \u001b[38;5;28;01mas\u001b[39;00m \u001b[38;5;21;01mnp\u001b[39;00m\n\u001b[1;32m      5\u001b[0m \u001b[38;5;28;01mimport\u001b[39;00m \u001b[38;5;21;01mpandas\u001b[39;00m \u001b[38;5;28;01mas\u001b[39;00m \u001b[38;5;21;01mpd\u001b[39;00m\n\u001b[0;32m----> 7\u001b[0m \u001b[38;5;28;01mfrom\u001b[39;00m \u001b[38;5;21;01mevalml\u001b[39;00m\u001b[38;5;21;01m.\u001b[39;00m\u001b[38;5;21;01mpipelines\u001b[39;00m \u001b[38;5;28;01mimport\u001b[39;00m BinaryClassificationPipeline\n\u001b[1;32m      8\u001b[0m \u001b[38;5;28;01mfrom\u001b[39;00m \u001b[38;5;21;01mevalml\u001b[39;00m\u001b[38;5;21;01m.\u001b[39;00m\u001b[38;5;21;01mutils\u001b[39;00m \u001b[38;5;28;01mimport\u001b[39;00m infer_feature_types\n\u001b[1;32m     11\u001b[0m \u001b[38;5;66;03m# these are helper functions to help us calculate the objective values\u001b[39;00m\n",
            "File \u001b[0;32m/anaconda/envs/azureml_py310_sdkv2/lib/python3.10/site-packages/evalml/pipelines/__init__.py:2\u001b[0m, in \u001b[0;36m<module>\u001b[0;34m\u001b[0m\n\u001b[1;32m      1\u001b[0m \u001b[38;5;124;03m\"\"\"EvalML pipelines.\"\"\"\u001b[39;00m\n\u001b[0;32m----> 2\u001b[0m \u001b[38;5;28;01mfrom\u001b[39;00m \u001b[38;5;21;01mevalml\u001b[39;00m\u001b[38;5;21;01m.\u001b[39;00m\u001b[38;5;21;01mpipelines\u001b[39;00m\u001b[38;5;21;01m.\u001b[39;00m\u001b[38;5;21;01mcomponents\u001b[39;00m \u001b[38;5;28;01mimport\u001b[39;00m (\n\u001b[1;32m      3\u001b[0m     Estimator,\n\u001b[1;32m      4\u001b[0m     OneHotEncoder,\n\u001b[1;32m      5\u001b[0m     TargetEncoder,\n\u001b[1;32m      6\u001b[0m     SimpleImputer,\n\u001b[1;32m      7\u001b[0m     PerColumnImputer,\n\u001b[1;32m      8\u001b[0m     Imputer,\n\u001b[1;32m      9\u001b[0m     TimeSeriesImputer,\n\u001b[1;32m     10\u001b[0m     StandardScaler,\n\u001b[1;32m     11\u001b[0m     Transformer,\n\u001b[1;32m     12\u001b[0m     LightGBMClassifier,\n\u001b[1;32m     13\u001b[0m     LightGBMRegressor,\n\u001b[1;32m     14\u001b[0m     LinearRegressor,\n\u001b[1;32m     15\u001b[0m     LogisticRegressionClassifier,\n\u001b[1;32m     16\u001b[0m     RandomForestClassifier,\n\u001b[1;32m     17\u001b[0m     RandomForestRegressor,\n\u001b[1;32m     18\u001b[0m     XGBoostClassifier,\n\u001b[1;32m     19\u001b[0m     XGBoostRegressor,\n\u001b[1;32m     20\u001b[0m     FeatureSelector,\n\u001b[1;32m     21\u001b[0m     RFClassifierSelectFromModel,\n\u001b[1;32m     22\u001b[0m     RFRegressorSelectFromModel,\n\u001b[1;32m     23\u001b[0m     CatBoostClassifier,\n\u001b[1;32m     24\u001b[0m     CatBoostRegressor,\n\u001b[1;32m     25\u001b[0m     ElasticNetClassifier,\n\u001b[1;32m     26\u001b[0m     ElasticNetRegressor,\n\u001b[1;32m     27\u001b[0m     ExtraTreesClassifier,\n\u001b[1;32m     28\u001b[0m     ExtraTreesRegressor,\n\u001b[1;32m     29\u001b[0m     DecisionTreeClassifier,\n\u001b[1;32m     30\u001b[0m     DecisionTreeRegressor,\n\u001b[1;32m     31\u001b[0m     StackedEnsembleClassifier,\n\u001b[1;32m     32\u001b[0m     StackedEnsembleRegressor,\n\u001b[1;32m     33\u001b[0m     TimeSeriesFeaturizer,\n\u001b[1;32m     34\u001b[0m     DFSTransformer,\n\u001b[1;32m     35\u001b[0m     KNeighborsClassifier,\n\u001b[1;32m     36\u001b[0m     SVMClassifier,\n\u001b[1;32m     37\u001b[0m     SVMRegressor,\n\u001b[1;32m     38\u001b[0m     ExponentialSmoothingRegressor,\n\u001b[1;32m     39\u001b[0m     ARIMARegressor,\n\u001b[1;32m     40\u001b[0m     ProphetRegressor,\n\u001b[1;32m     41\u001b[0m     VowpalWabbitBinaryClassifier,\n\u001b[1;32m     42\u001b[0m     VowpalWabbitMulticlassClassifier,\n\u001b[1;32m     43\u001b[0m     VowpalWabbitRegressor,\n\u001b[1;32m     44\u001b[0m     DropNaNRowsTransformer,\n\u001b[1;32m     45\u001b[0m     TimeSeriesRegularizer,\n\u001b[1;32m     46\u001b[0m     OrdinalEncoder,\n\u001b[1;32m     47\u001b[0m )\n\u001b[1;32m     49\u001b[0m \u001b[38;5;28;01mfrom\u001b[39;00m \u001b[38;5;21;01mevalml\u001b[39;00m\u001b[38;5;21;01m.\u001b[39;00m\u001b[38;5;21;01mpipelines\u001b[39;00m\u001b[38;5;21;01m.\u001b[39;00m\u001b[38;5;21;01mcomponent_graph\u001b[39;00m \u001b[38;5;28;01mimport\u001b[39;00m ComponentGraph\n\u001b[1;32m     50\u001b[0m \u001b[38;5;28;01mfrom\u001b[39;00m \u001b[38;5;21;01mevalml\u001b[39;00m\u001b[38;5;21;01m.\u001b[39;00m\u001b[38;5;21;01mpipelines\u001b[39;00m\u001b[38;5;21;01m.\u001b[39;00m\u001b[38;5;21;01mpipeline_base\u001b[39;00m \u001b[38;5;28;01mimport\u001b[39;00m PipelineBase\n",
            "File \u001b[0;32m/anaconda/envs/azureml_py310_sdkv2/lib/python3.10/site-packages/evalml/pipelines/components/__init__.py:3\u001b[0m, in \u001b[0;36m<module>\u001b[0;34m\u001b[0m\n\u001b[1;32m      1\u001b[0m \u001b[38;5;124;03m\"\"\"EvalML component classes.\"\"\"\u001b[39;00m\n\u001b[1;32m      2\u001b[0m \u001b[38;5;28;01mfrom\u001b[39;00m \u001b[38;5;21;01mevalml\u001b[39;00m\u001b[38;5;21;01m.\u001b[39;00m\u001b[38;5;21;01mpipelines\u001b[39;00m\u001b[38;5;21;01m.\u001b[39;00m\u001b[38;5;21;01mcomponents\u001b[39;00m\u001b[38;5;21;01m.\u001b[39;00m\u001b[38;5;21;01mcomponent_base\u001b[39;00m \u001b[38;5;28;01mimport\u001b[39;00m ComponentBase, ComponentBaseMeta\n\u001b[0;32m----> 3\u001b[0m \u001b[38;5;28;01mfrom\u001b[39;00m \u001b[38;5;21;01mevalml\u001b[39;00m\u001b[38;5;21;01m.\u001b[39;00m\u001b[38;5;21;01mpipelines\u001b[39;00m\u001b[38;5;21;01m.\u001b[39;00m\u001b[38;5;21;01mcomponents\u001b[39;00m\u001b[38;5;21;01m.\u001b[39;00m\u001b[38;5;21;01mestimators\u001b[39;00m \u001b[38;5;28;01mimport\u001b[39;00m (\n\u001b[1;32m      4\u001b[0m     Estimator,\n\u001b[1;32m      5\u001b[0m     LinearRegressor,\n\u001b[1;32m      6\u001b[0m     LightGBMClassifier,\n\u001b[1;32m      7\u001b[0m     LightGBMRegressor,\n\u001b[1;32m      8\u001b[0m     LogisticRegressionClassifier,\n\u001b[1;32m      9\u001b[0m     RandomForestClassifier,\n\u001b[1;32m     10\u001b[0m     RandomForestRegressor,\n\u001b[1;32m     11\u001b[0m     XGBoostClassifier,\n\u001b[1;32m     12\u001b[0m     CatBoostClassifier,\n\u001b[1;32m     13\u001b[0m     ExtraTreesClassifier,\n\u001b[1;32m     14\u001b[0m     ExtraTreesRegressor,\n\u001b[1;32m     15\u001b[0m     CatBoostRegressor,\n\u001b[1;32m     16\u001b[0m     XGBoostRegressor,\n\u001b[1;32m     17\u001b[0m     ElasticNetClassifier,\n\u001b[1;32m     18\u001b[0m     ElasticNetRegressor,\n\u001b[1;32m     19\u001b[0m     BaselineClassifier,\n\u001b[1;32m     20\u001b[0m     BaselineRegressor,\n\u001b[1;32m     21\u001b[0m     DecisionTreeClassifier,\n\u001b[1;32m     22\u001b[0m     DecisionTreeRegressor,\n\u001b[1;32m     23\u001b[0m     TimeSeriesBaselineEstimator,\n\u001b[1;32m     24\u001b[0m     KNeighborsClassifier,\n\u001b[1;32m     25\u001b[0m     ProphetRegressor,\n\u001b[1;32m     26\u001b[0m     SVMClassifier,\n\u001b[1;32m     27\u001b[0m     SVMRegressor,\n\u001b[1;32m     28\u001b[0m     ExponentialSmoothingRegressor,\n\u001b[1;32m     29\u001b[0m     ARIMARegressor,\n\u001b[1;32m     30\u001b[0m     VowpalWabbitBinaryClassifier,\n\u001b[1;32m     31\u001b[0m     VowpalWabbitMulticlassClassifier,\n\u001b[1;32m     32\u001b[0m     VowpalWabbitRegressor,\n\u001b[1;32m     33\u001b[0m )\n\u001b[1;32m     34\u001b[0m \u001b[38;5;28;01mfrom\u001b[39;00m \u001b[38;5;21;01mevalml\u001b[39;00m\u001b[38;5;21;01m.\u001b[39;00m\u001b[38;5;21;01mpipelines\u001b[39;00m\u001b[38;5;21;01m.\u001b[39;00m\u001b[38;5;21;01mcomponents\u001b[39;00m\u001b[38;5;21;01m.\u001b[39;00m\u001b[38;5;21;01mtransformers\u001b[39;00m \u001b[38;5;28;01mimport\u001b[39;00m (\n\u001b[1;32m     35\u001b[0m     Transformer,\n\u001b[1;32m     36\u001b[0m     OneHotEncoder,\n\u001b[0;32m   (...)\u001b[0m\n\u001b[1;32m     70\u001b[0m     OrdinalEncoder,\n\u001b[1;32m     71\u001b[0m )\n\u001b[1;32m     72\u001b[0m \u001b[38;5;28;01mfrom\u001b[39;00m \u001b[38;5;21;01mevalml\u001b[39;00m\u001b[38;5;21;01m.\u001b[39;00m\u001b[38;5;21;01mpipelines\u001b[39;00m\u001b[38;5;21;01m.\u001b[39;00m\u001b[38;5;21;01mcomponents\u001b[39;00m\u001b[38;5;21;01m.\u001b[39;00m\u001b[38;5;21;01mensemble\u001b[39;00m \u001b[38;5;28;01mimport\u001b[39;00m (\n\u001b[1;32m     73\u001b[0m     StackedEnsembleClassifier,\n\u001b[1;32m     74\u001b[0m     StackedEnsembleRegressor,\n\u001b[1;32m     75\u001b[0m )\n",
            "File \u001b[0;32m/anaconda/envs/azureml_py310_sdkv2/lib/python3.10/site-packages/evalml/pipelines/components/estimators/__init__.py:3\u001b[0m, in \u001b[0;36m<module>\u001b[0;34m\u001b[0m\n\u001b[1;32m      1\u001b[0m \u001b[38;5;124;03m\"\"\"EvalML estimator components.\"\"\"\u001b[39;00m\n\u001b[1;32m      2\u001b[0m \u001b[38;5;28;01mfrom\u001b[39;00m \u001b[38;5;21;01mevalml\u001b[39;00m\u001b[38;5;21;01m.\u001b[39;00m\u001b[38;5;21;01mpipelines\u001b[39;00m\u001b[38;5;21;01m.\u001b[39;00m\u001b[38;5;21;01mcomponents\u001b[39;00m\u001b[38;5;21;01m.\u001b[39;00m\u001b[38;5;21;01mestimators\u001b[39;00m\u001b[38;5;21;01m.\u001b[39;00m\u001b[38;5;21;01mestimator\u001b[39;00m \u001b[38;5;28;01mimport\u001b[39;00m Estimator\n\u001b[0;32m----> 3\u001b[0m \u001b[38;5;28;01mfrom\u001b[39;00m \u001b[38;5;21;01mevalml\u001b[39;00m\u001b[38;5;21;01m.\u001b[39;00m\u001b[38;5;21;01mpipelines\u001b[39;00m\u001b[38;5;21;01m.\u001b[39;00m\u001b[38;5;21;01mcomponents\u001b[39;00m\u001b[38;5;21;01m.\u001b[39;00m\u001b[38;5;21;01mestimators\u001b[39;00m\u001b[38;5;21;01m.\u001b[39;00m\u001b[38;5;21;01mclassifiers\u001b[39;00m \u001b[38;5;28;01mimport\u001b[39;00m (\n\u001b[1;32m      4\u001b[0m     LogisticRegressionClassifier,\n\u001b[1;32m      5\u001b[0m     RandomForestClassifier,\n\u001b[1;32m      6\u001b[0m     XGBoostClassifier,\n\u001b[1;32m      7\u001b[0m     LightGBMClassifier,\n\u001b[1;32m      8\u001b[0m     CatBoostClassifier,\n\u001b[1;32m      9\u001b[0m     ElasticNetClassifier,\n\u001b[1;32m     10\u001b[0m     ExtraTreesClassifier,\n\u001b[1;32m     11\u001b[0m     BaselineClassifier,\n\u001b[1;32m     12\u001b[0m     DecisionTreeClassifier,\n\u001b[1;32m     13\u001b[0m     KNeighborsClassifier,\n\u001b[1;32m     14\u001b[0m     SVMClassifier,\n\u001b[1;32m     15\u001b[0m     VowpalWabbitBinaryClassifier,\n\u001b[1;32m     16\u001b[0m     VowpalWabbitMulticlassClassifier,\n\u001b[1;32m     17\u001b[0m )\n\u001b[1;32m     18\u001b[0m \u001b[38;5;28;01mfrom\u001b[39;00m \u001b[38;5;21;01mevalml\u001b[39;00m\u001b[38;5;21;01m.\u001b[39;00m\u001b[38;5;21;01mpipelines\u001b[39;00m\u001b[38;5;21;01m.\u001b[39;00m\u001b[38;5;21;01mcomponents\u001b[39;00m\u001b[38;5;21;01m.\u001b[39;00m\u001b[38;5;21;01mestimators\u001b[39;00m\u001b[38;5;21;01m.\u001b[39;00m\u001b[38;5;21;01mregressors\u001b[39;00m \u001b[38;5;28;01mimport\u001b[39;00m (\n\u001b[1;32m     19\u001b[0m     LinearRegressor,\n\u001b[1;32m     20\u001b[0m     LightGBMRegressor,\n\u001b[0;32m   (...)\u001b[0m\n\u001b[1;32m     33\u001b[0m     VowpalWabbitRegressor,\n\u001b[1;32m     34\u001b[0m )\n",
            "File \u001b[0;32m/anaconda/envs/azureml_py310_sdkv2/lib/python3.10/site-packages/evalml/pipelines/components/estimators/classifiers/__init__.py:8\u001b[0m, in \u001b[0;36m<module>\u001b[0;34m\u001b[0m\n\u001b[1;32m      2\u001b[0m \u001b[38;5;28;01mfrom\u001b[39;00m \u001b[38;5;21;01mevalml\u001b[39;00m\u001b[38;5;21;01m.\u001b[39;00m\u001b[38;5;21;01mpipelines\u001b[39;00m\u001b[38;5;21;01m.\u001b[39;00m\u001b[38;5;21;01mcomponents\u001b[39;00m\u001b[38;5;21;01m.\u001b[39;00m\u001b[38;5;21;01mestimators\u001b[39;00m\u001b[38;5;21;01m.\u001b[39;00m\u001b[38;5;21;01mclassifiers\u001b[39;00m\u001b[38;5;21;01m.\u001b[39;00m\u001b[38;5;21;01mlogistic_regression_classifier\u001b[39;00m \u001b[38;5;28;01mimport\u001b[39;00m (\n\u001b[1;32m      3\u001b[0m     LogisticRegressionClassifier,\n\u001b[1;32m      4\u001b[0m )\n\u001b[1;32m      5\u001b[0m \u001b[38;5;28;01mfrom\u001b[39;00m \u001b[38;5;21;01mevalml\u001b[39;00m\u001b[38;5;21;01m.\u001b[39;00m\u001b[38;5;21;01mpipelines\u001b[39;00m\u001b[38;5;21;01m.\u001b[39;00m\u001b[38;5;21;01mcomponents\u001b[39;00m\u001b[38;5;21;01m.\u001b[39;00m\u001b[38;5;21;01mestimators\u001b[39;00m\u001b[38;5;21;01m.\u001b[39;00m\u001b[38;5;21;01mclassifiers\u001b[39;00m\u001b[38;5;21;01m.\u001b[39;00m\u001b[38;5;21;01mrf_classifier\u001b[39;00m \u001b[38;5;28;01mimport\u001b[39;00m (\n\u001b[1;32m      6\u001b[0m     RandomForestClassifier,\n\u001b[1;32m      7\u001b[0m )\n\u001b[0;32m----> 8\u001b[0m \u001b[38;5;28;01mfrom\u001b[39;00m \u001b[38;5;21;01mevalml\u001b[39;00m\u001b[38;5;21;01m.\u001b[39;00m\u001b[38;5;21;01mpipelines\u001b[39;00m\u001b[38;5;21;01m.\u001b[39;00m\u001b[38;5;21;01mcomponents\u001b[39;00m\u001b[38;5;21;01m.\u001b[39;00m\u001b[38;5;21;01mestimators\u001b[39;00m\u001b[38;5;21;01m.\u001b[39;00m\u001b[38;5;21;01mclassifiers\u001b[39;00m\u001b[38;5;21;01m.\u001b[39;00m\u001b[38;5;21;01mxgboost_classifier\u001b[39;00m \u001b[38;5;28;01mimport\u001b[39;00m (\n\u001b[1;32m      9\u001b[0m     XGBoostClassifier,\n\u001b[1;32m     10\u001b[0m )\n\u001b[1;32m     11\u001b[0m \u001b[38;5;28;01mfrom\u001b[39;00m \u001b[38;5;21;01mevalml\u001b[39;00m\u001b[38;5;21;01m.\u001b[39;00m\u001b[38;5;21;01mpipelines\u001b[39;00m\u001b[38;5;21;01m.\u001b[39;00m\u001b[38;5;21;01mcomponents\u001b[39;00m\u001b[38;5;21;01m.\u001b[39;00m\u001b[38;5;21;01mestimators\u001b[39;00m\u001b[38;5;21;01m.\u001b[39;00m\u001b[38;5;21;01mclassifiers\u001b[39;00m\u001b[38;5;21;01m.\u001b[39;00m\u001b[38;5;21;01mcatboost_classifier\u001b[39;00m \u001b[38;5;28;01mimport\u001b[39;00m (\n\u001b[1;32m     12\u001b[0m     CatBoostClassifier,\n\u001b[1;32m     13\u001b[0m )\n\u001b[1;32m     14\u001b[0m \u001b[38;5;28;01mfrom\u001b[39;00m \u001b[38;5;21;01mevalml\u001b[39;00m\u001b[38;5;21;01m.\u001b[39;00m\u001b[38;5;21;01mpipelines\u001b[39;00m\u001b[38;5;21;01m.\u001b[39;00m\u001b[38;5;21;01mcomponents\u001b[39;00m\u001b[38;5;21;01m.\u001b[39;00m\u001b[38;5;21;01mestimators\u001b[39;00m\u001b[38;5;21;01m.\u001b[39;00m\u001b[38;5;21;01mclassifiers\u001b[39;00m\u001b[38;5;21;01m.\u001b[39;00m\u001b[38;5;21;01melasticnet_classifier\u001b[39;00m \u001b[38;5;28;01mimport\u001b[39;00m (\n\u001b[1;32m     15\u001b[0m     ElasticNetClassifier,\n\u001b[1;32m     16\u001b[0m )\n",
            "File \u001b[0;32m/anaconda/envs/azureml_py310_sdkv2/lib/python3.10/site-packages/evalml/pipelines/components/estimators/classifiers/xgboost_classifier.py:9\u001b[0m, in \u001b[0;36m<module>\u001b[0;34m\u001b[0m\n\u001b[1;32m      7\u001b[0m \u001b[38;5;28;01mfrom\u001b[39;00m \u001b[38;5;21;01mevalml\u001b[39;00m\u001b[38;5;21;01m.\u001b[39;00m\u001b[38;5;21;01mmodel_family\u001b[39;00m \u001b[38;5;28;01mimport\u001b[39;00m ModelFamily\n\u001b[1;32m      8\u001b[0m \u001b[38;5;28;01mfrom\u001b[39;00m \u001b[38;5;21;01mevalml\u001b[39;00m\u001b[38;5;21;01m.\u001b[39;00m\u001b[38;5;21;01mpipelines\u001b[39;00m\u001b[38;5;21;01m.\u001b[39;00m\u001b[38;5;21;01mcomponents\u001b[39;00m\u001b[38;5;21;01m.\u001b[39;00m\u001b[38;5;21;01mestimators\u001b[39;00m \u001b[38;5;28;01mimport\u001b[39;00m Estimator\n\u001b[0;32m----> 9\u001b[0m \u001b[38;5;28;01mfrom\u001b[39;00m \u001b[38;5;21;01mevalml\u001b[39;00m\u001b[38;5;21;01m.\u001b[39;00m\u001b[38;5;21;01mpipelines\u001b[39;00m\u001b[38;5;21;01m.\u001b[39;00m\u001b[38;5;21;01mcomponents\u001b[39;00m\u001b[38;5;21;01m.\u001b[39;00m\u001b[38;5;21;01mtransformers\u001b[39;00m \u001b[38;5;28;01mimport\u001b[39;00m LabelEncoder\n\u001b[1;32m     10\u001b[0m \u001b[38;5;28;01mfrom\u001b[39;00m \u001b[38;5;21;01mevalml\u001b[39;00m\u001b[38;5;21;01m.\u001b[39;00m\u001b[38;5;21;01mproblem_types\u001b[39;00m \u001b[38;5;28;01mimport\u001b[39;00m ProblemTypes\n\u001b[1;32m     11\u001b[0m \u001b[38;5;28;01mfrom\u001b[39;00m \u001b[38;5;21;01mevalml\u001b[39;00m\u001b[38;5;21;01m.\u001b[39;00m\u001b[38;5;21;01mutils\u001b[39;00m \u001b[38;5;28;01mimport\u001b[39;00m _rename_column_names_to_numeric, import_or_raise\n",
            "File \u001b[0;32m/anaconda/envs/azureml_py310_sdkv2/lib/python3.10/site-packages/evalml/pipelines/components/transformers/__init__.py:35\u001b[0m, in \u001b[0;36m<module>\u001b[0;34m\u001b[0m\n\u001b[1;32m     26\u001b[0m \u001b[38;5;28;01mfrom\u001b[39;00m \u001b[38;5;21;01mevalml\u001b[39;00m\u001b[38;5;21;01m.\u001b[39;00m\u001b[38;5;21;01mpipelines\u001b[39;00m\u001b[38;5;21;01m.\u001b[39;00m\u001b[38;5;21;01mcomponents\u001b[39;00m\u001b[38;5;21;01m.\u001b[39;00m\u001b[38;5;21;01mtransformers\u001b[39;00m\u001b[38;5;21;01m.\u001b[39;00m\u001b[38;5;21;01mcolumn_selectors\u001b[39;00m \u001b[38;5;28;01mimport\u001b[39;00m (\n\u001b[1;32m     27\u001b[0m     DropColumns,\n\u001b[1;32m     28\u001b[0m     SelectColumns,\n\u001b[1;32m     29\u001b[0m     SelectByType,\n\u001b[1;32m     30\u001b[0m )\n\u001b[1;32m     31\u001b[0m \u001b[38;5;28;01mfrom\u001b[39;00m \u001b[38;5;21;01mevalml\u001b[39;00m\u001b[38;5;21;01m.\u001b[39;00m\u001b[38;5;21;01mpipelines\u001b[39;00m\u001b[38;5;21;01m.\u001b[39;00m\u001b[38;5;21;01mcomponents\u001b[39;00m\u001b[38;5;21;01m.\u001b[39;00m\u001b[38;5;21;01mtransformers\u001b[39;00m\u001b[38;5;21;01m.\u001b[39;00m\u001b[38;5;21;01mdimensionality_reduction\u001b[39;00m \u001b[38;5;28;01mimport\u001b[39;00m (\n\u001b[1;32m     32\u001b[0m     LinearDiscriminantAnalysis,\n\u001b[1;32m     33\u001b[0m     PCA,\n\u001b[1;32m     34\u001b[0m )\n\u001b[0;32m---> 35\u001b[0m \u001b[38;5;28;01mfrom\u001b[39;00m \u001b[38;5;21;01mevalml\u001b[39;00m\u001b[38;5;21;01m.\u001b[39;00m\u001b[38;5;21;01mpipelines\u001b[39;00m\u001b[38;5;21;01m.\u001b[39;00m\u001b[38;5;21;01mcomponents\u001b[39;00m\u001b[38;5;21;01m.\u001b[39;00m\u001b[38;5;21;01mtransformers\u001b[39;00m\u001b[38;5;21;01m.\u001b[39;00m\u001b[38;5;21;01mpreprocessing\u001b[39;00m \u001b[38;5;28;01mimport\u001b[39;00m (\n\u001b[1;32m     36\u001b[0m     DateTimeFeaturizer,\n\u001b[1;32m     37\u001b[0m     DropNullColumns,\n\u001b[1;32m     38\u001b[0m     LSA,\n\u001b[1;32m     39\u001b[0m     NaturalLanguageFeaturizer,\n\u001b[1;32m     40\u001b[0m     TimeSeriesFeaturizer,\n\u001b[1;32m     41\u001b[0m     DFSTransformer,\n\u001b[1;32m     42\u001b[0m     PolynomialDecomposer,\n\u001b[1;32m     43\u001b[0m     STLDecomposer,\n\u001b[1;32m     44\u001b[0m     LogTransformer,\n\u001b[1;32m     45\u001b[0m     EmailFeaturizer,\n\u001b[1;32m     46\u001b[0m     URLFeaturizer,\n\u001b[1;32m     47\u001b[0m     DropRowsTransformer,\n\u001b[1;32m     48\u001b[0m     ReplaceNullableTypes,\n\u001b[1;32m     49\u001b[0m     DropNaNRowsTransformer,\n\u001b[1;32m     50\u001b[0m     TimeSeriesRegularizer,\n\u001b[1;32m     51\u001b[0m )\n",
            "File \u001b[0;32m/anaconda/envs/azureml_py310_sdkv2/lib/python3.10/site-packages/evalml/pipelines/components/transformers/preprocessing/__init__.py:12\u001b[0m, in \u001b[0;36m<module>\u001b[0;34m\u001b[0m\n\u001b[1;32m      8\u001b[0m \u001b[38;5;28;01mfrom\u001b[39;00m \u001b[38;5;21;01mevalml\u001b[39;00m\u001b[38;5;21;01m.\u001b[39;00m\u001b[38;5;21;01mpipelines\u001b[39;00m\u001b[38;5;21;01m.\u001b[39;00m\u001b[38;5;21;01mcomponents\u001b[39;00m\u001b[38;5;21;01m.\u001b[39;00m\u001b[38;5;21;01mtransformers\u001b[39;00m\u001b[38;5;21;01m.\u001b[39;00m\u001b[38;5;21;01mpreprocessing\u001b[39;00m\u001b[38;5;21;01m.\u001b[39;00m\u001b[38;5;21;01mtext_transformer\u001b[39;00m \u001b[38;5;28;01mimport\u001b[39;00m (\n\u001b[1;32m      9\u001b[0m     TextTransformer,\n\u001b[1;32m     10\u001b[0m )\n\u001b[1;32m     11\u001b[0m \u001b[38;5;28;01mfrom\u001b[39;00m \u001b[38;5;21;01mevalml\u001b[39;00m\u001b[38;5;21;01m.\u001b[39;00m\u001b[38;5;21;01mpipelines\u001b[39;00m\u001b[38;5;21;01m.\u001b[39;00m\u001b[38;5;21;01mcomponents\u001b[39;00m\u001b[38;5;21;01m.\u001b[39;00m\u001b[38;5;21;01mtransformers\u001b[39;00m\u001b[38;5;21;01m.\u001b[39;00m\u001b[38;5;21;01mpreprocessing\u001b[39;00m\u001b[38;5;21;01m.\u001b[39;00m\u001b[38;5;21;01mlsa\u001b[39;00m \u001b[38;5;28;01mimport\u001b[39;00m LSA\n\u001b[0;32m---> 12\u001b[0m \u001b[38;5;28;01mfrom\u001b[39;00m \u001b[38;5;21;01mevalml\u001b[39;00m\u001b[38;5;21;01m.\u001b[39;00m\u001b[38;5;21;01mpipelines\u001b[39;00m\u001b[38;5;21;01m.\u001b[39;00m\u001b[38;5;21;01mcomponents\u001b[39;00m\u001b[38;5;21;01m.\u001b[39;00m\u001b[38;5;21;01mtransformers\u001b[39;00m\u001b[38;5;21;01m.\u001b[39;00m\u001b[38;5;21;01mpreprocessing\u001b[39;00m\u001b[38;5;21;01m.\u001b[39;00m\u001b[38;5;21;01mnatural_language_featurizer\u001b[39;00m \u001b[38;5;28;01mimport\u001b[39;00m (\n\u001b[1;32m     13\u001b[0m     NaturalLanguageFeaturizer,\n\u001b[1;32m     14\u001b[0m )\n\u001b[1;32m     15\u001b[0m \u001b[38;5;28;01mfrom\u001b[39;00m \u001b[38;5;21;01mevalml\u001b[39;00m\u001b[38;5;21;01m.\u001b[39;00m\u001b[38;5;21;01mpipelines\u001b[39;00m\u001b[38;5;21;01m.\u001b[39;00m\u001b[38;5;21;01mcomponents\u001b[39;00m\u001b[38;5;21;01m.\u001b[39;00m\u001b[38;5;21;01mtransformers\u001b[39;00m\u001b[38;5;21;01m.\u001b[39;00m\u001b[38;5;21;01mpreprocessing\u001b[39;00m\u001b[38;5;21;01m.\u001b[39;00m\u001b[38;5;21;01mtime_series_featurizer\u001b[39;00m \u001b[38;5;28;01mimport\u001b[39;00m (\n\u001b[1;32m     16\u001b[0m     TimeSeriesFeaturizer,\n\u001b[1;32m     17\u001b[0m )\n\u001b[1;32m     18\u001b[0m \u001b[38;5;28;01mfrom\u001b[39;00m \u001b[38;5;21;01mevalml\u001b[39;00m\u001b[38;5;21;01m.\u001b[39;00m\u001b[38;5;21;01mpipelines\u001b[39;00m\u001b[38;5;21;01m.\u001b[39;00m\u001b[38;5;21;01mcomponents\u001b[39;00m\u001b[38;5;21;01m.\u001b[39;00m\u001b[38;5;21;01mtransformers\u001b[39;00m\u001b[38;5;21;01m.\u001b[39;00m\u001b[38;5;21;01mpreprocessing\u001b[39;00m\u001b[38;5;21;01m.\u001b[39;00m\u001b[38;5;21;01mfeaturetools\u001b[39;00m \u001b[38;5;28;01mimport\u001b[39;00m (\n\u001b[1;32m     19\u001b[0m     DFSTransformer,\n\u001b[1;32m     20\u001b[0m )\n",
            "File \u001b[0;32m/anaconda/envs/azureml_py310_sdkv2/lib/python3.10/site-packages/evalml/pipelines/components/transformers/preprocessing/natural_language_featurizer.py:5\u001b[0m, in \u001b[0;36m<module>\u001b[0;34m\u001b[0m\n\u001b[1;32m      2\u001b[0m \u001b[38;5;28;01mimport\u001b[39;00m \u001b[38;5;21;01mstring\u001b[39;00m\n\u001b[1;32m      4\u001b[0m \u001b[38;5;28;01mimport\u001b[39;00m \u001b[38;5;21;01mfeaturetools\u001b[39;00m \u001b[38;5;28;01mas\u001b[39;00m \u001b[38;5;21;01mft\u001b[39;00m\n\u001b[0;32m----> 5\u001b[0m \u001b[38;5;28;01mfrom\u001b[39;00m \u001b[38;5;21;01mfeaturetools\u001b[39;00m\u001b[38;5;21;01m.\u001b[39;00m\u001b[38;5;21;01mprimitives\u001b[39;00m \u001b[38;5;28;01mimport\u001b[39;00m (\n\u001b[1;32m      6\u001b[0m     DiversityScore,\n\u001b[1;32m      7\u001b[0m     MeanCharactersPerWord,\n\u001b[1;32m      8\u001b[0m     NumCharacters,\n\u001b[1;32m      9\u001b[0m     NumWords,\n\u001b[1;32m     10\u001b[0m     PolarityScore,\n\u001b[1;32m     11\u001b[0m )\n\u001b[1;32m     13\u001b[0m \u001b[38;5;28;01mfrom\u001b[39;00m \u001b[38;5;21;01mevalml\u001b[39;00m\u001b[38;5;21;01m.\u001b[39;00m\u001b[38;5;21;01mpipelines\u001b[39;00m\u001b[38;5;21;01m.\u001b[39;00m\u001b[38;5;21;01mcomponents\u001b[39;00m\u001b[38;5;21;01m.\u001b[39;00m\u001b[38;5;21;01mtransformers\u001b[39;00m\u001b[38;5;21;01m.\u001b[39;00m\u001b[38;5;21;01mpreprocessing\u001b[39;00m \u001b[38;5;28;01mimport\u001b[39;00m LSA, TextTransformer\n\u001b[1;32m     14\u001b[0m \u001b[38;5;28;01mfrom\u001b[39;00m \u001b[38;5;21;01mevalml\u001b[39;00m\u001b[38;5;21;01m.\u001b[39;00m\u001b[38;5;21;01mutils\u001b[39;00m \u001b[38;5;28;01mimport\u001b[39;00m infer_feature_types\n",
            "\u001b[0;31mImportError\u001b[0m: cannot import name 'DiversityScore' from 'featuretools.primitives' (/anaconda/envs/azureml_py310_sdkv2/lib/python3.10/site-packages/featuretools/primitives/__init__.py)"
          ]
        }
      ],
      "execution_count": 16,
      "metadata": {
        "gather": {
          "logged": 1673989660962
        }
      },
      "id": "9a3e9138"
    },
    {
      "cell_type": "code",
      "source": [
        "def encode(df, column_to_encode):\n",
        "    ohe.fit(df[column_to_encode])\n",
        "    return ohe.transform(df[column_to_encode])"
      ],
      "outputs": [],
      "execution_count": 13,
      "metadata": {},
      "id": "04a701da"
    },
    {
      "cell_type": "code",
      "source": [
        "# Columns outside top_n receive an other value for encoding purposes\n",
        "columns_to_encode = ['location_state','country','category','staff_pick', 'is_starrable']\n",
        "\n",
        "for column in columns_to_encode:\n",
        "    top_cats = df[column].value_counts().head(number_of_categories).index.tolist()\n",
        "    df.loc[~df[column].isin(top_cats), column] = 'Other'"
      ],
      "outputs": [],
      "execution_count": 14,
      "metadata": {},
      "id": "08e372b9"
    },
    {
      "cell_type": "code",
      "source": [
        "encoded_df = encode(df, columns_to_encode)\n",
        "df = df.drop(columns=columns_to_encode)\n",
        "encoded_df['id'] = df['id']\n",
        "feature_df = pd.merge(df, encoded_df, on='id')"
      ],
      "outputs": [],
      "execution_count": 15,
      "metadata": {},
      "id": "a473e23b"
    },
    {
      "cell_type": "code",
      "source": [
        "target_df = feature_df.state\n",
        "feature_df = feature_df.drop(columns=['state'])"
      ],
      "outputs": [],
      "execution_count": 15,
      "metadata": {},
      "id": "4635ed90"
    },
    {
      "cell_type": "code",
      "source": [
        "feature_df.to_pickle('Tables/feature_df.pkl')\n",
        "target_df.to_pickle('Tables/target_df.pkl')"
      ],
      "outputs": [],
      "execution_count": 16,
      "metadata": {},
      "id": "849234df"
    },
    {
      "cell_type": "code",
      "source": [
        "feature_df.to_csv('Tables/feature_df.csv')\n",
        "target_df.to_csv('Tables/target_df.csv')"
      ],
      "outputs": [],
      "execution_count": 17,
      "metadata": {},
      "id": "a57c02f9"
    },
    {
      "cell_type": "code",
      "source": [
        "from pandas_profiling import ProfileReport\n",
        "\n",
        "profile = ProfileReport(feature_df)\n",
        "profile.to_file(output_file='Feature Profile.html')"
      ],
      "outputs": [],
      "execution_count": null,
      "metadata": {},
      "id": "0fd8d76a"
    }
  ],
  "metadata": {
    "kernelspec": {
      "display_name": "Python 3.8.8 ('base')",
      "language": "python",
      "name": "python3"
    },
    "language_info": {
      "codemirror_mode": {
        "name": "ipython",
        "version": 3
      },
      "file_extension": ".py",
      "mimetype": "text/x-python",
      "name": "python",
      "nbconvert_exporter": "python",
      "pygments_lexer": "ipython3",
      "version": "3.8.8"
    },
    "vscode": {
      "interpreter": {
        "hash": "35ea69b78dad508c758da5127b5d9bbf4542625ba7d091a9364bddadf97422e1"
      }
    },
    "nteract": {
      "version": "nteract-front-end@1.0.0"
    }
  },
  "nbformat": 4,
  "nbformat_minor": 5
}