{
 "cells": [
  {
   "cell_type": "markdown",
   "id": "97b2e0a8",
   "metadata": {},
   "source": [
    "# Overview\n",
    "\n",
    "This project is looking at analyzing Kickstarter projects to find which projects tend to succeed. The purpose is understanding trends, then moving towards a classification model that guesses at which projects will succeed.\n",
    "\n",
    "source: https://webrobots.io/kickstarter-datasets/\n",
    "\n",
    "## Development Roadmap\n",
    "\n",
    "<blockquote>Phase 1: Combine all Kickstarter datasets and clean data <br>\n",
    "Phase 2: Create visualizations and understand the current state <br>\n",
    "Phase 3: Create a classification model based on available factors <br>\n",
    "Phase 4: Create a model that predicts the amount of funds received past the goal funds <br>\n",
    "Phase 5: Include more data from NLP and Understanding descriptions and textual data such as location</blockquote>\n",
    "\n",
    "## Questions that can be answered\n",
    "\n",
    "What campaigns are most successful by category? Location?\n",
    "What factors contribute to succesful campaigns? Spotlights? Number of contributors?\n",
    "\n",
    "## Other Potential Factors Affecting Success\n",
    "Shared on other outlets? Social Media?"
   ]
  },
  {
   "cell_type": "code",
   "execution_count": 15,
   "id": "a77f5b07",
   "metadata": {},
   "outputs": [],
   "source": [
    "import pandas as pd\n",
    "\n",
    "import glob\n",
    "import json\n",
    "\n",
    "import datetime\n",
    "from datetime import datetime\n",
    "from datetime import timedelta"
   ]
  },
  {
   "cell_type": "code",
   "execution_count": 16,
   "id": "fb5313ea",
   "metadata": {},
   "outputs": [],
   "source": [
    "data_files = sorted(glob.glob('data/Kickstarter*.csv'))\n",
    "df = pd.concat((pd.read_csv(file) for file in data_files))"
   ]
  },
  {
   "cell_type": "code",
   "execution_count": 17,
   "id": "bf40eea1",
   "metadata": {},
   "outputs": [],
   "source": [
    "pd.set_option('display.max_columns', None)"
   ]
  },
  {
   "cell_type": "code",
   "execution_count": 18,
   "id": "d591a729",
   "metadata": {},
   "outputs": [],
   "source": [
    "def clean_date(column):\n",
    "    date_list = []\n",
    "    start_date = datetime(year=1970, month=1, day=1)\n",
    "    for r in column:\n",
    "        new_date = start_date + timedelta(seconds = int(r))\n",
    "        date_list.append(new_date)\n",
    "    return date_list"
   ]
  },
  {
   "cell_type": "code",
   "execution_count": 19,
   "id": "55cffa21",
   "metadata": {},
   "outputs": [],
   "source": [
    "# Validation function - check input if valid JSON before reading it in\n",
    "# In try except, be specific about the error\n",
    "\n",
    "def parse_json(column, keyword):\n",
    "    new_column = []\n",
    "    for r in column:\n",
    "        try:\n",
    "            new_column.append(json.loads(r)[keyword])\n",
    "        except:\n",
    "            new_column.append(None)\n",
    "    return new_column"
   ]
  },
  {
   "cell_type": "code",
   "execution_count": 20,
   "id": "f4f79f9c",
   "metadata": {},
   "outputs": [],
   "source": [
    "df.created_at = clean_date(df.created_at)\n",
    "df.state_changed_at = clean_date(df.state_changed_at)\n",
    "df.deadline = clean_date(df.deadline)\n",
    "df.launched_at = clean_date(df.launched_at)"
   ]
  },
  {
   "cell_type": "code",
   "execution_count": 21,
   "id": "c115c869",
   "metadata": {},
   "outputs": [],
   "source": [
    "df.category = parse_json(df.category, 'name')\n",
    "df.creator = parse_json(df.creator, 'name')\n",
    "df['location_city'] = parse_json(df.location, 'localized_name')\n",
    "df['location_state'] = parse_json(df.location, 'state')"
   ]
  },
  {
   "cell_type": "code",
   "execution_count": 22,
   "id": "9f2b64d2",
   "metadata": {},
   "outputs": [],
   "source": [
    "#drops duplicate rows that match on id, deadline, and creator\n",
    "df = df.drop_duplicates(subset=['id', 'deadline', 'creator'])"
   ]
  },
  {
   "cell_type": "code",
   "execution_count": 23,
   "id": "0fd88e94",
   "metadata": {},
   "outputs": [],
   "source": [
    "# drop json Array columns\n",
    "df = df.drop(columns=['location','photo','profile','urls'])"
   ]
  },
  {
   "cell_type": "code",
   "execution_count": 24,
   "id": "8bf08ea1",
   "metadata": {},
   "outputs": [],
   "source": [
    "df = df.reset_index().drop(columns='index')"
   ]
  },
  {
   "cell_type": "code",
   "execution_count": 25,
   "id": "4ba7b3c7",
   "metadata": {},
   "outputs": [],
   "source": [
    "# save to pickle\n",
    "df.to_pickle('Tables/loaded_data.pkl')"
   ]
  },
  {
   "cell_type": "code",
   "execution_count": 26,
   "id": "864c7cd9",
   "metadata": {},
   "outputs": [],
   "source": [
    "# save off sepearate file\n",
    "df.to_csv('Tables/loaded_data.csv')"
   ]
  }
 ],
 "metadata": {
  "kernelspec": {
   "display_name": "Python 3.9.6 64-bit",
   "language": "python",
   "name": "python3"
  },
  "language_info": {
   "codemirror_mode": {
    "name": "ipython",
    "version": 3
   },
   "file_extension": ".py",
   "mimetype": "text/x-python",
   "name": "python",
   "nbconvert_exporter": "python",
   "pygments_lexer": "ipython3",
   "version": "3.9.6"
  },
  "vscode": {
   "interpreter": {
    "hash": "de5dd2d45b7d6cd6e0d82880e218861db0d6a2cb79a28f32b53d036ad47b45f4"
   }
  }
 },
 "nbformat": 4,
 "nbformat_minor": 5
}
