{
 "cells": [
  {
   "cell_type": "markdown",
   "id": "97b2e0a8",
   "metadata": {},
   "source": [
    "# Overview\n",
    "\n",
    "This project is looking at analyzing Kickstarter projects to find which projects tend to succeed. The purpose is understanding trends, then moving towards a classification model that guesses at which projects will succeed.\n",
    "\n",
    "source: https://webrobots.io/kickstarter-datasets/\n",
    "\n",
    "## Development Roadmap\n",
    "\n",
    "<blockquote>Phase 1: Combine all Kickstarter datasets and clean data <br>\n",
    "Phase 2: Create visualizations and understand the current state <br>\n",
    "Phase 3: Create a classification model based on available factors <br>\n",
    "Phase 4: Create a model that predicts the amount of funds received past the goal funds <br>\n",
    "Phase 5: Include more data from NLP and Understanding descriptions and textual data such as location</blockquote>\n",
    "\n",
    "## Questions that can be answered\n",
    "\n",
    "What campaigns are most successful by category? Location?\n",
    "What factors contribute to succesful campaigns? Spotlights? Number of contributors?\n",
    "\n",
    "## Other Potential Factors Affecting Success\n",
    "Shared on other outlets? Social Media?"
   ]
  },
  {
   "cell_type": "code",
   "execution_count": 1,
   "id": "a77f5b07",
   "metadata": {},
   "outputs": [],
   "source": [
    "import pandas as pd\n",
    "from pandas_profiling import ProfileReport"
   ]
  },
  {
   "cell_type": "code",
   "execution_count": 2,
   "id": "a2351720",
   "metadata": {},
   "outputs": [],
   "source": [
    "df = pd.read_csv('Tables/loaded_data.csv')"
   ]
  },
  {
   "cell_type": "code",
   "execution_count": 3,
   "id": "0c0b58af",
   "metadata": {},
   "outputs": [
    {
     "name": "stderr",
     "output_type": "stream",
     "text": [
      "Summarize dataset: 100%|██████████| 153/153 [00:30<00:00,  5.07it/s, Completed]                                                \n",
      "Generate report structure: 100%|██████████| 1/1 [00:07<00:00,  7.67s/it]\n",
      "Render HTML: 100%|██████████| 1/1 [00:04<00:00,  4.25s/it]\n",
      "Export report to file: 100%|██████████| 1/1 [00:00<00:00, 41.71it/s]\n"
     ]
    }
   ],
   "source": [
    "profile = ProfileReport(df)\n",
    "profile.to_file(output_file='Data Profile.html')"
   ]
  }
 ],
 "metadata": {
  "kernelspec": {
   "display_name": "Python 3",
   "language": "python",
   "name": "python3"
  },
  "language_info": {
   "codemirror_mode": {
    "name": "ipython",
    "version": 3
   },
   "file_extension": ".py",
   "mimetype": "text/x-python",
   "name": "python",
   "nbconvert_exporter": "python",
   "pygments_lexer": "ipython3",
   "version": "3.9.6"
  }
 },
 "nbformat": 4,
 "nbformat_minor": 5
}
