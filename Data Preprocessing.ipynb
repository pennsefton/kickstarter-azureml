{
 "cells": [
  {
   "cell_type": "code",
   "execution_count": 2,
   "id": "a77f5b07",
   "metadata": {},
   "outputs": [],
   "source": [
    "import pandas as pd"
   ]
  },
  {
   "cell_type": "code",
   "execution_count": 3,
   "id": "fb5313ea",
   "metadata": {},
   "outputs": [],
   "source": [
    "df = pd.read_pickle('Tables/loaded_data.pkl')"
   ]
  },
  {
   "cell_type": "code",
   "execution_count": 4,
   "id": "5c8a6f7f",
   "metadata": {},
   "outputs": [],
   "source": [
    "# Filter to projects only with successful or failed state for training purposes\n",
    "df = df[((df.state == 'successful') | (df.state == 'failed'))]"
   ]
  },
  {
   "cell_type": "code",
   "execution_count": 5,
   "id": "0cd7b952",
   "metadata": {},
   "outputs": [],
   "source": [
    "# Drop columns without distinct values (found from profiling report)\n",
    "df = df.drop(columns=['disable_communication','friends','is_backing','is_starred','permissions'])"
   ]
  },
  {
   "cell_type": "code",
   "execution_count": 6,
   "id": "b216540f",
   "metadata": {},
   "outputs": [],
   "source": [
    "# Drop highly correlated columns (ex. currency and currency symbol)\n",
    "df = df.drop(columns=['country_displayable_name','currency_symbol','currency_trailing_code','static_usd_rate','usd_exchange_rate','usd_type'])"
   ]
  },
  {
   "cell_type": "code",
   "execution_count": 7,
   "id": "0ead2571",
   "metadata": {},
   "outputs": [],
   "source": [
    "# Drop columns that are not known at the beginning of a project\n",
    "df = df.drop(columns=['backers_count','converted_pledged_amount','pledged','spotlight','state_changed_at','usd_pledged'])"
   ]
  },
  {
   "cell_type": "code",
   "execution_count": 8,
   "id": "2d9ba4a8",
   "metadata": {},
   "outputs": [],
   "source": [
    "# Drop columns irrelevant due to business knowledge\n",
    "df = df.drop(columns=['currency','current_currency','fx_rate','slug','source_url','location_city'])"
   ]
  },
  {
   "cell_type": "code",
   "execution_count": 9,
   "id": "daa20a9d",
   "metadata": {},
   "outputs": [],
   "source": [
    "# Drop columns due to difficulty to model (potentially NLP future additions)\n",
    "df = df.drop(columns=['blurb','creator','name'])"
   ]
  },
  {
   "cell_type": "markdown",
   "id": "1987ed6b",
   "metadata": {},
   "source": [
    "### Feature Engineering\n",
    "\n",
    "Synthetic Features to create\n",
    "- Campaign Length (start to campaign)\n",
    "- Creation to Start\n",
    "- Month of Launch\n",
    "- Hour of Launch\n"
   ]
  },
  {
   "cell_type": "code",
   "execution_count": 10,
   "id": "0f62985e",
   "metadata": {},
   "outputs": [],
   "source": [
    "df['campaign_length'] = (df['deadline'] - df['launched_at']).dt.days\n",
    "df['prep_time'] = (df['launched_at'] - df['created_at']).dt.days\n",
    "df['month_of_launch'] = df['launched_at'].dt.month\n",
    "df['weekday_of_launch'] = df['launched_at'].dt.dayofweek\n",
    "df['hour_of_launch'] = df['launched_at'].dt.hour"
   ]
  },
  {
   "cell_type": "code",
   "execution_count": 11,
   "id": "a94ff21c",
   "metadata": {},
   "outputs": [],
   "source": [
    "# Drop date columns due to difficulty for interpretation for ML\n",
    "df = df.drop(columns=['deadline','created_at','launched_at'])"
   ]
  },
  {
   "cell_type": "markdown",
   "id": "2cf9ca4e",
   "metadata": {},
   "source": [
    "### Encoding"
   ]
  },
  {
   "cell_type": "code",
   "execution_count": 12,
   "id": "9a3e9138",
   "metadata": {},
   "outputs": [],
   "source": [
    "# Encode Data\n",
    "from evalml.pipelines.components.transformers import OneHotEncoder\n",
    "\n",
    "number_of_categories = 10\n",
    "ohe = OneHotEncoder(top_n=number_of_categories)"
   ]
  },
  {
   "cell_type": "code",
   "execution_count": 13,
   "id": "04a701da",
   "metadata": {},
   "outputs": [],
   "source": [
    "def encode(df, column_to_encode):\n",
    "    ohe.fit(df[column_to_encode])\n",
    "    return ohe.transform(df[column_to_encode])"
   ]
  },
  {
   "cell_type": "code",
   "execution_count": 14,
   "id": "08e372b9",
   "metadata": {},
   "outputs": [],
   "source": [
    "# Columns outside top_n receive an other value for encoding purposes\n",
    "columns_to_encode = ['location_state','country','category','staff_pick', 'is_starrable']\n",
    "\n",
    "for column in columns_to_encode:\n",
    "    top_cats = df[column].value_counts().head(number_of_categories).index.tolist()\n",
    "    df.loc[~df[column].isin(top_cats), column] = 'Other'"
   ]
  },
  {
   "cell_type": "code",
   "execution_count": 15,
   "id": "a473e23b",
   "metadata": {},
   "outputs": [],
   "source": [
    "encoded_df = encode(df, columns_to_encode)\n",
    "df = df.drop(columns=columns_to_encode)\n",
    "encoded_df['id'] = df['id']\n",
    "feature_df = pd.merge(df, encoded_df, on='id')"
   ]
  },
  {
   "cell_type": "code",
   "execution_count": 15,
   "id": "4635ed90",
   "metadata": {},
   "outputs": [],
   "source": [
    "target_df = feature_df.state\n",
    "feature_df = feature_df.drop(columns=['state'])"
   ]
  },
  {
   "cell_type": "code",
   "execution_count": 16,
   "id": "849234df",
   "metadata": {},
   "outputs": [],
   "source": [
    "feature_df.to_pickle('Tables/feature_df.pkl')\n",
    "target_df.to_pickle('Tables/target_df.pkl')"
   ]
  },
  {
   "cell_type": "code",
   "execution_count": 17,
   "id": "a57c02f9",
   "metadata": {},
   "outputs": [],
   "source": [
    "feature_df.to_csv('Tables/feature_df.csv')\n",
    "target_df.to_csv('Tables/target_df.csv')"
   ]
  },
  {
   "cell_type": "code",
   "execution_count": null,
   "id": "0fd8d76a",
   "metadata": {},
   "outputs": [],
   "source": [
    "from pandas_profiling import ProfileReport\n",
    "\n",
    "profile = ProfileReport(feature_df)\n",
    "profile.to_file(output_file='Feature Profile.html')"
   ]
  }
 ],
 "metadata": {
  "kernelspec": {
   "display_name": "Python 3.8.8 ('base')",
   "language": "python",
   "name": "python3"
  },
  "language_info": {
   "codemirror_mode": {
    "name": "ipython",
    "version": 3
   },
   "file_extension": ".py",
   "mimetype": "text/x-python",
   "name": "python",
   "nbconvert_exporter": "python",
   "pygments_lexer": "ipython3",
   "version": "3.8.8"
  },
  "vscode": {
   "interpreter": {
    "hash": "35ea69b78dad508c758da5127b5d9bbf4542625ba7d091a9364bddadf97422e1"
   }
  }
 },
 "nbformat": 4,
 "nbformat_minor": 5
}
