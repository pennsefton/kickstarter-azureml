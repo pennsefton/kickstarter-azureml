{
 "cells": [
  {
   "cell_type": "code",
   "execution_count": 1,
   "id": "a77f5b07",
   "metadata": {},
   "outputs": [],
   "source": [
    "import pandas as pd\n",
    "\n",
    "import glob\n",
    "import json\n",
    "\n",
    "import datetime\n",
    "from datetime import datetime\n",
    "from datetime import timedelta"
   ]
  },
  {
   "cell_type": "code",
   "execution_count": 2,
   "id": "fb5313ea",
   "metadata": {},
   "outputs": [],
   "source": [
    "data_files = sorted(glob.glob('../Training Data/Kickstarter*.csv'))\n",
    "df = pd.concat((pd.read_csv(file) for file in data_files))"
   ]
  },
  {
   "cell_type": "code",
   "execution_count": 3,
   "id": "bf40eea1",
   "metadata": {},
   "outputs": [],
   "source": [
    "pd.set_option('display.max_columns', None)"
   ]
  },
  {
   "cell_type": "code",
   "execution_count": 4,
   "id": "d591a729",
   "metadata": {},
   "outputs": [],
   "source": [
    "# Timestamps were in the form of seconds elapsed since origin, so converted to create new dates\n",
    "\n",
    "def clean_date(column):\n",
    "    date_list = []\n",
    "    start_date = datetime(year=1970, month=1, day=1)\n",
    "    for r in column:\n",
    "        new_date = start_date + timedelta(seconds = int(r))\n",
    "        date_list.append(new_date)\n",
    "    return date_list"
   ]
  },
  {
   "cell_type": "code",
   "execution_count": 5,
   "id": "55cffa21",
   "metadata": {},
   "outputs": [],
   "source": [
    "# Parses columns that are nested jsons from data source to extract a certain feature.A\n",
    "# Accepts a JSON column from the csv (column) and a keyword to extract from that column (keyword)\n",
    "\n",
    "def parse_json(column, keyword):\n",
    "    new_column = []\n",
    "    for r in column:\n",
    "        try:\n",
    "            new_column.append(json.loads(r)[keyword])\n",
    "        except:\n",
    "            new_column.append(None)\n",
    "    return new_column"
   ]
  },
  {
   "cell_type": "code",
   "execution_count": 6,
   "id": "f4f79f9c",
   "metadata": {},
   "outputs": [],
   "source": [
    "df.created_at = clean_date(df.created_at)\n",
    "df.state_changed_at = clean_date(df.state_changed_at)\n",
    "df.deadline = clean_date(df.deadline)\n",
    "df.launched_at = clean_date(df.launched_at)"
   ]
  },
  {
   "cell_type": "code",
   "execution_count": 7,
   "id": "c115c869",
   "metadata": {},
   "outputs": [],
   "source": [
    "df.category = parse_json(df.category, 'name')\n",
    "df.creator = parse_json(df.creator, 'name')\n",
    "df['location_city'] = parse_json(df.location, 'localized_name')\n",
    "df['location_state'] = parse_json(df.location, 'state')"
   ]
  },
  {
   "cell_type": "code",
   "execution_count": 8,
   "id": "9f2b64d2",
   "metadata": {},
   "outputs": [],
   "source": [
    "# drops duplicate rows that match on id, deadline, and creator\n",
    "# PHIL: Document why uniqueness is expected at this level\n",
    "df = df.drop_duplicates(subset=['id', 'deadline', 'creator'])"
   ]
  },
  {
   "cell_type": "code",
   "execution_count": 9,
   "id": "0fd88e94",
   "metadata": {},
   "outputs": [],
   "source": [
    "# drop json Array columns\n",
    "df = df.drop(columns=['location','photo','profile','urls'])"
   ]
  },
  {
   "cell_type": "code",
   "execution_count": 10,
   "id": "8bf08ea1",
   "metadata": {},
   "outputs": [],
   "source": [
    "df = df.reset_index().drop(columns='index')"
   ]
  },
  {
   "cell_type": "code",
   "execution_count": 11,
   "id": "4ba7b3c7",
   "metadata": {},
   "outputs": [],
   "source": [
    "# save to pickle\n",
    "df.to_pickle('../Tables/loaded_data.pkl')"
   ]
  },
  {
   "cell_type": "code",
   "execution_count": 12,
   "id": "864c7cd9",
   "metadata": {},
   "outputs": [],
   "source": [
    "# save off sepearate file\n",
    "df.to_csv('../Tables/loaded_data.csv')"
   ]
  }
 ],
 "metadata": {
  "kernelspec": {
   "display_name": "azureml_py310_sdkv2",
   "language": "python",
   "name": "python3"
  },
  "language_info": {
   "codemirror_mode": {
    "name": "ipython",
    "version": 3
   },
   "file_extension": ".py",
   "mimetype": "text/x-python",
   "name": "python",
   "nbconvert_exporter": "python",
   "pygments_lexer": "ipython3",
   "version": "3.10.8"
  },
  "vscode": {
   "interpreter": {
    "hash": "2139c70ac98f3202d028164a545621647e07f47fd6f5d8ac55cf952bf7c15ed1"
   }
  }
 },
 "nbformat": 4,
 "nbformat_minor": 5
}
