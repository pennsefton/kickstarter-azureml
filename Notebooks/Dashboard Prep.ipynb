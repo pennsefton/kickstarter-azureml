{
 "cells": [
  {
   "cell_type": "code",
   "execution_count": 4,
   "metadata": {},
   "outputs": [],
   "source": [
    "import pandas as pd\n",
    "import pickle\n",
    "import numpy as np"
   ]
  },
  {
   "cell_type": "code",
   "execution_count": 5,
   "metadata": {},
   "outputs": [],
   "source": [
    "x = pd.read_pickle('../Tables/feature_df.pkl')\n",
    "full_data = pd.read_csv('../Tables/loaded_data.csv')\n",
    "full_shap_df = pd.read_pickle('../Tables/full_shap_df.pkl')"
   ]
  },
  {
   "cell_type": "code",
   "execution_count": null,
   "metadata": {},
   "outputs": [],
   "source": [
    "# Need to add predictions into data"
   ]
  },
  {
   "cell_type": "code",
   "execution_count": 6,
   "metadata": {},
   "outputs": [
    {
     "ename": "KeyError",
     "evalue": "'predictions'",
     "output_type": "error",
     "traceback": [
      "\u001b[0;31m---------------------------------------------------------------------------\u001b[0m",
      "\u001b[0;31mKeyError\u001b[0m                                  Traceback (most recent call last)",
      "File \u001b[0;32m/anaconda/envs/kickstarter_env/lib/python3.10/site-packages/pandas/core/indexes/base.py:3803\u001b[0m, in \u001b[0;36mIndex.get_loc\u001b[0;34m(self, key, method, tolerance)\u001b[0m\n\u001b[1;32m   3802\u001b[0m \u001b[39mtry\u001b[39;00m:\n\u001b[0;32m-> 3803\u001b[0m     \u001b[39mreturn\u001b[39;00m \u001b[39mself\u001b[39;49m\u001b[39m.\u001b[39;49m_engine\u001b[39m.\u001b[39;49mget_loc(casted_key)\n\u001b[1;32m   3804\u001b[0m \u001b[39mexcept\u001b[39;00m \u001b[39mKeyError\u001b[39;00m \u001b[39mas\u001b[39;00m err:\n",
      "File \u001b[0;32m/anaconda/envs/kickstarter_env/lib/python3.10/site-packages/pandas/_libs/index.pyx:138\u001b[0m, in \u001b[0;36mpandas._libs.index.IndexEngine.get_loc\u001b[0;34m()\u001b[0m\n",
      "File \u001b[0;32m/anaconda/envs/kickstarter_env/lib/python3.10/site-packages/pandas/_libs/index.pyx:165\u001b[0m, in \u001b[0;36mpandas._libs.index.IndexEngine.get_loc\u001b[0;34m()\u001b[0m\n",
      "File \u001b[0;32mpandas/_libs/hashtable_class_helper.pxi:5745\u001b[0m, in \u001b[0;36mpandas._libs.hashtable.PyObjectHashTable.get_item\u001b[0;34m()\u001b[0m\n",
      "File \u001b[0;32mpandas/_libs/hashtable_class_helper.pxi:5753\u001b[0m, in \u001b[0;36mpandas._libs.hashtable.PyObjectHashTable.get_item\u001b[0;34m()\u001b[0m\n",
      "\u001b[0;31mKeyError\u001b[0m: 'predictions'",
      "\nThe above exception was the direct cause of the following exception:\n",
      "\u001b[0;31mKeyError\u001b[0m                                  Traceback (most recent call last)",
      "Cell \u001b[0;32mIn[6], line 4\u001b[0m\n\u001b[1;32m      1\u001b[0m full_id \u001b[39m=\u001b[39m pd\u001b[39m.\u001b[39mmerge(x[\u001b[39m'\u001b[39m\u001b[39mid\u001b[39m\u001b[39m'\u001b[39m], full_shap_df, left_index\u001b[39m=\u001b[39m\u001b[39mTrue\u001b[39;00m, right_index\u001b[39m=\u001b[39m\u001b[39mTrue\u001b[39;00m)\n\u001b[1;32m      2\u001b[0m project_full \u001b[39m=\u001b[39m pd\u001b[39m.\u001b[39mmerge(full_id, full_data, left_on\u001b[39m=\u001b[39m\u001b[39m'\u001b[39m\u001b[39mid\u001b[39m\u001b[39m'\u001b[39m, right_on\u001b[39m=\u001b[39m\u001b[39m'\u001b[39m\u001b[39mid\u001b[39m\u001b[39m'\u001b[39m)\n\u001b[0;32m----> 4\u001b[0m project_full[\u001b[39m'\u001b[39m\u001b[39mcorrect\u001b[39m\u001b[39m'\u001b[39m] \u001b[39m=\u001b[39m np\u001b[39m.\u001b[39mwhere( project_full[\u001b[39m'\u001b[39m\u001b[39mstate_x\u001b[39m\u001b[39m'\u001b[39m] \u001b[39m==\u001b[39m project_full[\u001b[39m'\u001b[39;49m\u001b[39mpredictions\u001b[39;49m\u001b[39m'\u001b[39;49m] , \u001b[39mTrue\u001b[39;00m, \u001b[39mFalse\u001b[39;00m)\n",
      "File \u001b[0;32m/anaconda/envs/kickstarter_env/lib/python3.10/site-packages/pandas/core/frame.py:3805\u001b[0m, in \u001b[0;36mDataFrame.__getitem__\u001b[0;34m(self, key)\u001b[0m\n\u001b[1;32m   3803\u001b[0m \u001b[39mif\u001b[39;00m \u001b[39mself\u001b[39m\u001b[39m.\u001b[39mcolumns\u001b[39m.\u001b[39mnlevels \u001b[39m>\u001b[39m \u001b[39m1\u001b[39m:\n\u001b[1;32m   3804\u001b[0m     \u001b[39mreturn\u001b[39;00m \u001b[39mself\u001b[39m\u001b[39m.\u001b[39m_getitem_multilevel(key)\n\u001b[0;32m-> 3805\u001b[0m indexer \u001b[39m=\u001b[39m \u001b[39mself\u001b[39;49m\u001b[39m.\u001b[39;49mcolumns\u001b[39m.\u001b[39;49mget_loc(key)\n\u001b[1;32m   3806\u001b[0m \u001b[39mif\u001b[39;00m is_integer(indexer):\n\u001b[1;32m   3807\u001b[0m     indexer \u001b[39m=\u001b[39m [indexer]\n",
      "File \u001b[0;32m/anaconda/envs/kickstarter_env/lib/python3.10/site-packages/pandas/core/indexes/base.py:3805\u001b[0m, in \u001b[0;36mIndex.get_loc\u001b[0;34m(self, key, method, tolerance)\u001b[0m\n\u001b[1;32m   3803\u001b[0m     \u001b[39mreturn\u001b[39;00m \u001b[39mself\u001b[39m\u001b[39m.\u001b[39m_engine\u001b[39m.\u001b[39mget_loc(casted_key)\n\u001b[1;32m   3804\u001b[0m \u001b[39mexcept\u001b[39;00m \u001b[39mKeyError\u001b[39;00m \u001b[39mas\u001b[39;00m err:\n\u001b[0;32m-> 3805\u001b[0m     \u001b[39mraise\u001b[39;00m \u001b[39mKeyError\u001b[39;00m(key) \u001b[39mfrom\u001b[39;00m \u001b[39merr\u001b[39;00m\n\u001b[1;32m   3806\u001b[0m \u001b[39mexcept\u001b[39;00m \u001b[39mTypeError\u001b[39;00m:\n\u001b[1;32m   3807\u001b[0m     \u001b[39m# If we have a listlike key, _check_indexing_error will raise\u001b[39;00m\n\u001b[1;32m   3808\u001b[0m     \u001b[39m#  InvalidIndexError. Otherwise we fall through and re-raise\u001b[39;00m\n\u001b[1;32m   3809\u001b[0m     \u001b[39m#  the TypeError.\u001b[39;00m\n\u001b[1;32m   3810\u001b[0m     \u001b[39mself\u001b[39m\u001b[39m.\u001b[39m_check_indexing_error(key)\n",
      "\u001b[0;31mKeyError\u001b[0m: 'predictions'"
     ]
    }
   ],
   "source": [
    "full_id = pd.merge(x['id'], full_shap_df, left_index=True, right_index=True)\n",
    "project_full = pd.merge(full_id, full_data, left_on='id', right_on='id')\n",
    "\n",
    "project_full['correct'] = np.where( project_full['state_x'] == project_full['predictions'] , True, False)"
   ]
  },
  {
   "cell_type": "code",
   "execution_count": null,
   "metadata": {},
   "outputs": [],
   "source": [
    "presentation_columns =['id','name','goal_x','usd_pledged','state_x','probability','predictions','correct','blurb','category','location_city','location_state','country','campaign_length','prep_time','month_of_launch', 'weekday_of_launch', 'hour_of_launch','staff_pick', 'spotlight']\n",
    "presentation_columns.extend(shap_df.columns.values)"
   ]
  },
  {
   "cell_type": "code",
   "execution_count": null,
   "metadata": {},
   "outputs": [],
   "source": [
    "# rename columns to friendly names\n",
    "presentation_df = project_full[presentation_columns]\n",
    "\n",
    "presentation_df = presentation_df.rename(columns={\"name\": \"Project Name\",\n",
    "                                                  \"goal_x\": \"Goal Amount\",\n",
    "                                                  \"state_x\":\"Campaign Success\",\n",
    "                                                  \"probability\":\"Probability of Classification Prediction\",\n",
    "                                                  \"predictions\": \"Predicted Campaign Success\",\n",
    "                                                  \"correct\": \"Correct Prediction\",\n",
    "                                                  \"campaign_length\":\"Campaign Length\",\n",
    "                                                  \"prep_time\":\"Preparation Time\",\n",
    "                                                  \"month_of_launch\":\"Start Month\",\n",
    "                                                  \"weekday_of_launch\":\"Start Day\",\n",
    "                                                  \"hour_of_launch\":\"Start Hour\",\n",
    "                                                  \"blurb\":\"Project Description\",\n",
    "                                                  \"category\":\"Category\",\n",
    "                                                  \"usd_pledged\":\"Raised Amount\",\n",
    "                                                  \"country\":\"Country\",\n",
    "                                                  \"staff_pick\":\"Staff Pick\",\n",
    "                                                  \"spotlight\":\"Spotlight\",\n",
    "                                                  \"location_city\":\"City\",\n",
    "                                                  \"location_state\":\"State\"\n",
    "                                                 })"
   ]
  },
  {
   "cell_type": "code",
   "execution_count": null,
   "metadata": {},
   "outputs": [],
   "source": [
    "#Final value roundings and replacing for ease of use with the dashboard\n",
    "\n",
    "presentation_df['Goal Amount'] = presentation_df['Goal Amount'].apply(round)\n",
    "presentation_df['Raised Amount'] = presentation_df['Raised Amount'].apply(round)\n",
    "presentation_df['Campaign Success'] = presentation_df['Campaign Success'].replace({1:True, 0:False})\n",
    "presentation_df['Probability of Classification Prediction'] = presentation_df['Probability of Classification Prediction'].apply(round,args=(2,))"
   ]
  },
  {
   "cell_type": "code",
   "execution_count": null,
   "metadata": {},
   "outputs": [],
   "source": [
    "presentation_df.to_csv('dashboard_data.csv',index=False)"
   ]
  }
 ],
 "metadata": {
  "kernelspec": {
   "display_name": "kickstarter_env",
   "language": "python",
   "name": "python3"
  },
  "language_info": {
   "codemirror_mode": {
    "name": "ipython",
    "version": 3
   },
   "file_extension": ".py",
   "mimetype": "text/x-python",
   "name": "python",
   "nbconvert_exporter": "python",
   "pygments_lexer": "ipython3",
   "version": "3.10.8"
  },
  "orig_nbformat": 4,
  "vscode": {
   "interpreter": {
    "hash": "c3134075bda701f85f5316a28dbda93d8eb6003e674b35b477c3d39688f8cb28"
   }
  }
 },
 "nbformat": 4,
 "nbformat_minor": 2
}
